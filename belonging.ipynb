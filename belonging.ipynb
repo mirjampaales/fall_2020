{
 "cells": [
  {
   "cell_type": "code",
   "execution_count": 3,
   "metadata": {
    "collapsed": true
   },
   "outputs": [],
   "source": [
    "#setup (all libraries needed are loaded here)\n",
    "import pandas as pd #for dataframes and general data stuffs\n",
    "import matplotlib.pyplot as plt #for plots, also for seaborn?\n",
    "import seaborn as sns #for other plots\n",
    "import numpy as np #for some trivial statistics\n",
    "from factor_analyzer import FactorAnalyzer #we're going to do and report a factor analysis of the instrument\n",
    "import statistics #for some fancy statistics"
   ]
  },
  {
   "cell_type": "markdown",
   "source": [
    "# Analysis of the school belonging data"
   ],
   "metadata": {
    "collapsed": false
   }
  },
  {
   "cell_type": "markdown",
   "source": [
    "The goal of this analysis is to get the score of belonging for each participant - the bigger the score the stronger the sense of school belonging. Or so we hope.\n",
    "In order to get the score we first need to 'translate' the data collected with the survey into numbers and run a factor analysis on those numbers. Then, from the factor scores we can decide if all the statements in the belonging instrument are valid representation of the variable that we call school belonging."
   ],
   "metadata": {
    "collapsed": false
   }
  },
  {
   "cell_type": "code",
   "execution_count": 4,
   "outputs": [],
   "source": [
    "#import data from survey\n",
    "reflex = pd.read_csv(r'Data/reflex.csv', sep=';')\n",
    "#filtering data according to participants consent\n",
    "reflex = reflex[reflex[\n",
    "                    'Käesoleva.küsimustiku.andmeid.kasutatakse.teadustöös...Analüüsi.tulemusi.kajastatakse.teadusartiklis.anonüümselt.ja.neid.ei.edastata.kolmandatele.isikutele....Olen.nõus..et.minu.vastuseid.kasutatakse.teadustöös.'] == 'Jah']"
   ],
   "metadata": {
    "collapsed": false
   }
  },
  {
   "cell_type": "code",
   "execution_count": 5,
   "outputs": [
    {
     "data": {
      "text/plain": "Index(['Vastuse.ID', 'Kinnitamise.kuupäev', 'Viimane.lehekülg',\n       'Alustamise.keel', 'Alustamise.kuupäev', 'Viimase.tegevuse.kuupäev',\n       'IP.aadress',\n       'Käesoleva.küsimustiku.andmeid.kasutatakse.teadustöös...Analüüsi.tulemusi.kajastatakse.teadusartiklis.anonüümselt.ja.neid.ei.edastata.kolmandatele.isikutele....Olen.nõus..et.minu.vastuseid.kasutatakse.teadustöös.',\n       'Eesnimi', 'Perenimi',\n       'Palun.märgi..mil.määral.nõustud.järgmiste.väidetega...Mul.on.olemas.vajalikud.teadmised.ja.oskused..et.ülikoolis.hakkama.saada.',\n       'Palun.märgi..mil.määral.nõustud.järgmiste.väidetega...Ülikoolis.õppimine.on.väga.huvitav.ja.köitev.',\n       'Palun.märgi..mil.määral.nõustud.järgmiste.väidetega...Ma.töötan.kõvasti.heade.akadeemiliste.tulemuste.nimel.',\n       'Palun.märgi..mil.määral.nõustud.järgmiste.väidetega...Ma.olen.võimeline.saama.enamikus.ainetes.häid.tulemusi.',\n       'Palun.märgi..mil.määral.nõustud.järgmiste.väidetega...Vajadusel.loobun.muudest.tegevustest.heade.hinnete.nimel.',\n       'Palun.märgi..mil.määral.nõustud.järgmiste.väidetega...Ma.saan.hakkama.kõikide.ülikooli.ainetega.',\n       'Mõtle.semestri.algusele..Kas.ja.kuidas.on.praeguseks.muutunud.sinu.õppimisega.seotud.aja.planeerimine.',\n       'Mis.või.kes.on.sinu.ülikooliõpingutes.sind.toetanud.või.sulle.abiks.olnud..Kuidas.',\n       'Palun.märgi..mil.määral.nõustud.järgnevate.väidetega...Ma.leian..et.teised.peavad.minust.lugu..',\n       'Palun.märgi..mil.määral.nõustud.järgnevate.väidetega...Ma.leian.kergesti.sõpru..',\n       'Palun.märgi..mil.määral.nõustud.järgnevate.väidetega...Ma.tunnen..et.olen.osa.sellest.kursusest..',\n       'Palun.märgi..mil.määral.nõustud.järgnevate.väidetega...Ma.tunnen.end.koolis.kohmaka.ja.kohatuna..',\n       'Palun.märgi..mil.määral.nõustud.järgnevate.väidetega...Ma.tunnen.end.ülikoolis.üksikuna..',\n       'Palun.märgi..mil.määral.nõustud.järgnevate.väidetega...Ma.tunnen.end.ülikoolis.tõrjutuna..',\n       'vaba_kuuluvus', 'Aeg.kokku', 'Rühma.aeg..Nõusolek',\n       'Küsimuse.aeg..n6us', 'Rühma.aeg..Isikustamine',\n       'Küsimuse.aeg..eesnimi', 'Küsimuse.aeg..perenimi',\n       'Rühma.aeg..Akadeemiline.enesetõhusus', 'Küsimuse.aeg..eficacy',\n       'Rühma.aeg..Pikemad.tekstivastused', 'Küsimuse.aeg..muutunud',\n       'Küsimuse.aeg..toetanud', 'Rühma.aeg..Kuulumine',\n       'Küsimuse.aeg..kuulumine', 'Küsimuse.aeg..isekuluumine', 'nimi'],\n      dtype='object')"
     },
     "execution_count": 5,
     "metadata": {},
     "output_type": "execute_result"
    }
   ],
   "source": [
    "#take a look at the columns to see which ones are the belonging\n",
    "reflex.columns"
   ],
   "metadata": {
    "collapsed": false
   }
  },
  {
   "cell_type": "code",
   "execution_count": 6,
   "outputs": [
    {
     "name": "stdout",
     "output_type": "stream",
     "text": [
      "                                          0\n",
      "0    Ma.leian..et.teised.peavad.minust.lugu\n",
      "1                   Ma.leian.kergesti.sõpru\n",
      "2  Ma.tunnen..et.olen.osa.sellest.kursusest\n",
      "3  Ma.tunnen.end.koolis.kohmaka.ja.kohatuna\n",
      "4          Ma.tunnen.end.ülikoolis.üksikuna\n",
      "5         Ma.tunnen.end.ülikoolis.tõrjutuna\n"
     ]
    }
   ],
   "source": [
    "belonging = reflex.iloc[:,18:24]\n",
    "#the columns (also the statements) are as following\n",
    "bl_statements = []\n",
    "for col in belonging.columns:\n",
    "    title, statement = col.split('...')\n",
    "    statement = statement.strip('.')\n",
    "    bl_statements.append(statement)\n",
    "bl_statements = pd.DataFrame(bl_statements)\n",
    "print(bl_statements)"
   ],
   "metadata": {
    "collapsed": false
   }
  },
  {
   "cell_type": "code",
   "execution_count": 7,
   "outputs": [
    {
     "data": {
      "text/plain": "{'Ei nõustu üldse',\n 'Ei oska öelda',\n 'Nõustun täielikult',\n 'Pigem ei nõustu',\n 'Pigem nõustun'}"
     },
     "execution_count": 7,
     "metadata": {},
     "output_type": "execute_result"
    }
   ],
   "source": [
    "#lets look at the scale used in this instrument. any statement that has the full range will give us that\n",
    "set(reflex['Palun.märgi..mil.määral.nõustud.järgnevate.väidetega...Ma.tunnen.end.koolis.kohmaka.ja.kohatuna..'])"
   ],
   "metadata": {
    "collapsed": false
   }
  },
  {
   "cell_type": "code",
   "execution_count": 8,
   "outputs": [],
   "source": [
    "#create the ordered list of scale values\n",
    "levels_bl = ['Ei nõustu üldse','Pigem ei nõustu','Ei oska öelda', 'Pigem nõustun','Nõustun täielikult']\n",
    "\n",
    "#rename the columns with shorter indicators to make the code more readable\n",
    "belonging.columns = ['bl1','bl2','bl3','bl4','bl5','bl6']\n",
    "\n",
    "#the dictionary to make the replacements\n",
    "belonging_replacer = {'Ei nõustu üldse':1,\n",
    "                      'Ei oska öelda':3,\n",
    "                      'Pigem ei nõustu':2,\n",
    "                      'Pigem nõustun':4,\n",
    "                      'Nõustun täielikult':5}\n",
    "\n",
    "#new dataframe with numbers\n",
    "belonging0 = belonging.replace({'bl1':belonging_replacer,'bl2':belonging_replacer,'bl3':belonging_replacer,'bl4':belonging_replacer,'bl5':belonging_replacer,'bl6':belonging_replacer,})"
   ],
   "metadata": {
    "collapsed": false
   }
  },
  {
   "cell_type": "code",
   "execution_count": 9,
   "outputs": [],
   "source": [
    "#recalculate (reverse code) the last 3 statements. this is later needed to calculate the chronbach's alpha\n",
    "belonging0['bl4_'] = 6 - belonging0['bl4']\n",
    "belonging0['bl5_'] = 6 - belonging0['bl5']\n",
    "belonging0['bl6_'] = 6 - belonging0['bl6']"
   ],
   "metadata": {
    "collapsed": false
   }
  },
  {
   "cell_type": "code",
   "execution_count": 10,
   "outputs": [
    {
     "data": {
      "text/plain": "array([[-0.38818339],\n       [-0.59363663],\n       [-0.61787276],\n       [-0.62307168],\n       [-0.817136  ],\n       [-0.53356417]])"
     },
     "execution_count": 10,
     "metadata": {},
     "output_type": "execute_result"
    }
   ],
   "source": [
    "#take a subset (we don't need the original numbers anymore\n",
    "belonging_recoded = belonging0.loc[:,['bl1','bl2','bl3','bl4_','bl5_','bl6_']]\n",
    "fa = FactorAnalyzer(n_factors = 1, rotation = None, method = 'ml')\n",
    "fa_belong = fa.fit(belonging_recoded)\n",
    "fa_belong.loadings_"
   ],
   "metadata": {
    "collapsed": false
   }
  },
  {
   "cell_type": "code",
   "execution_count": 11,
   "outputs": [
    {
     "data": {
      "text/plain": "                                        0\n0  Ma.leian..et.teised.peavad.minust.lugu",
      "text/html": "<div>\n<style scoped>\n    .dataframe tbody tr th:only-of-type {\n        vertical-align: middle;\n    }\n\n    .dataframe tbody tr th {\n        vertical-align: top;\n    }\n\n    .dataframe thead th {\n        text-align: right;\n    }\n</style>\n<table border=\"1\" class=\"dataframe\">\n  <thead>\n    <tr style=\"text-align: right;\">\n      <th></th>\n      <th>0</th>\n    </tr>\n  </thead>\n  <tbody>\n    <tr>\n      <th>0</th>\n      <td>Ma.leian..et.teised.peavad.minust.lugu</td>\n    </tr>\n  </tbody>\n</table>\n</div>"
     },
     "execution_count": 11,
     "metadata": {},
     "output_type": "execute_result"
    }
   ],
   "source": [
    "#looking at the factor scores we could argue that the first statement is not doing much for the subjects.\n",
    "# let's take a look at the statement to see what might be the reason\n",
    "bl_statements[:1]"
   ],
   "metadata": {
    "collapsed": false
   }
  },
  {
   "cell_type": "code",
   "execution_count": 12,
   "outputs": [],
   "source": [
    "#this might not be the best statement to have young people agreeing on. we will leave it out\n",
    "belonging_recoded1 = belonging_recoded.loc[:,['bl2','bl3','bl4_','bl5_','bl6_']]"
   ],
   "metadata": {
    "collapsed": false
   }
  },
  {
   "cell_type": "code",
   "execution_count": 13,
   "outputs": [
    {
     "data": {
      "text/plain": "          0\n0 -0.581549\n1 -0.610048\n2 -0.606219\n3 -0.853426\n4 -0.511765",
      "text/html": "<div>\n<style scoped>\n    .dataframe tbody tr th:only-of-type {\n        vertical-align: middle;\n    }\n\n    .dataframe tbody tr th {\n        vertical-align: top;\n    }\n\n    .dataframe thead th {\n        text-align: right;\n    }\n</style>\n<table border=\"1\" class=\"dataframe\">\n  <thead>\n    <tr style=\"text-align: right;\">\n      <th></th>\n      <th>0</th>\n    </tr>\n  </thead>\n  <tbody>\n    <tr>\n      <th>0</th>\n      <td>-0.581549</td>\n    </tr>\n    <tr>\n      <th>1</th>\n      <td>-0.610048</td>\n    </tr>\n    <tr>\n      <th>2</th>\n      <td>-0.606219</td>\n    </tr>\n    <tr>\n      <th>3</th>\n      <td>-0.853426</td>\n    </tr>\n    <tr>\n      <th>4</th>\n      <td>-0.511765</td>\n    </tr>\n  </tbody>\n</table>\n</div>"
     },
     "execution_count": 13,
     "metadata": {},
     "output_type": "execute_result"
    }
   ],
   "source": [
    "#...and run the factor analysis once more\n",
    "fa = FactorAnalyzer(n_factors = 1, rotation = None, method = 'ml')\n",
    "bl_fa = fa.fit(belonging_recoded1)\n",
    "bl_loadings = pd.DataFrame(bl_fa.loadings_)\n",
    "bl_loadings"
   ],
   "metadata": {
    "collapsed": false
   }
  },
  {
   "cell_type": "code",
   "execution_count": 14,
   "outputs": [
    {
     "data": {
      "text/plain": "                                          0\n0                   Ma.leian.kergesti.sõpru\n1  Ma.tunnen..et.olen.osa.sellest.kursusest\n2  Ma.tunnen.end.koolis.kohmaka.ja.kohatuna\n3          Ma.tunnen.end.ülikoolis.üksikuna\n4         Ma.tunnen.end.ülikoolis.tõrjutuna",
      "text/html": "<div>\n<style scoped>\n    .dataframe tbody tr th:only-of-type {\n        vertical-align: middle;\n    }\n\n    .dataframe tbody tr th {\n        vertical-align: top;\n    }\n\n    .dataframe thead th {\n        text-align: right;\n    }\n</style>\n<table border=\"1\" class=\"dataframe\">\n  <thead>\n    <tr style=\"text-align: right;\">\n      <th></th>\n      <th>0</th>\n    </tr>\n  </thead>\n  <tbody>\n    <tr>\n      <th>0</th>\n      <td>Ma.leian.kergesti.sõpru</td>\n    </tr>\n    <tr>\n      <th>1</th>\n      <td>Ma.tunnen..et.olen.osa.sellest.kursusest</td>\n    </tr>\n    <tr>\n      <th>2</th>\n      <td>Ma.tunnen.end.koolis.kohmaka.ja.kohatuna</td>\n    </tr>\n    <tr>\n      <th>3</th>\n      <td>Ma.tunnen.end.ülikoolis.üksikuna</td>\n    </tr>\n    <tr>\n      <th>4</th>\n      <td>Ma.tunnen.end.ülikoolis.tõrjutuna</td>\n    </tr>\n  </tbody>\n</table>\n</div>"
     },
     "execution_count": 14,
     "metadata": {},
     "output_type": "execute_result"
    }
   ],
   "source": [
    "#new list of statements without the first one.\n",
    "bl_statements1 = bl_statements[1:].reset_index(drop=True)\n",
    "bl_statements1"
   ],
   "metadata": {
    "collapsed": false
   }
  },
  {
   "cell_type": "code",
   "execution_count": 15,
   "outputs": [
    {
     "data": {
      "text/plain": "          0                                         0\n0 -0.581549                   Ma.leian.kergesti.sõpru\n1 -0.610048  Ma.tunnen..et.olen.osa.sellest.kursusest\n2 -0.606219  Ma.tunnen.end.koolis.kohmaka.ja.kohatuna\n3 -0.853426          Ma.tunnen.end.ülikoolis.üksikuna\n4 -0.511765         Ma.tunnen.end.ülikoolis.tõrjutuna",
      "text/html": "<div>\n<style scoped>\n    .dataframe tbody tr th:only-of-type {\n        vertical-align: middle;\n    }\n\n    .dataframe tbody tr th {\n        vertical-align: top;\n    }\n\n    .dataframe thead th {\n        text-align: right;\n    }\n</style>\n<table border=\"1\" class=\"dataframe\">\n  <thead>\n    <tr style=\"text-align: right;\">\n      <th></th>\n      <th>0</th>\n      <th>0</th>\n    </tr>\n  </thead>\n  <tbody>\n    <tr>\n      <th>0</th>\n      <td>-0.581549</td>\n      <td>Ma.leian.kergesti.sõpru</td>\n    </tr>\n    <tr>\n      <th>1</th>\n      <td>-0.610048</td>\n      <td>Ma.tunnen..et.olen.osa.sellest.kursusest</td>\n    </tr>\n    <tr>\n      <th>2</th>\n      <td>-0.606219</td>\n      <td>Ma.tunnen.end.koolis.kohmaka.ja.kohatuna</td>\n    </tr>\n    <tr>\n      <th>3</th>\n      <td>-0.853426</td>\n      <td>Ma.tunnen.end.ülikoolis.üksikuna</td>\n    </tr>\n    <tr>\n      <th>4</th>\n      <td>-0.511765</td>\n      <td>Ma.tunnen.end.ülikoolis.tõrjutuna</td>\n    </tr>\n  </tbody>\n</table>\n</div>"
     },
     "execution_count": 15,
     "metadata": {},
     "output_type": "execute_result"
    }
   ],
   "source": [
    "#lets print them side-by-side to look at them in all their glory\n",
    "pd.concat([bl_loadings, bl_statements1], axis = 1)"
   ],
   "metadata": {
    "collapsed": false
   }
  },
  {
   "cell_type": "code",
   "execution_count": 16,
   "outputs": [],
   "source": [
    "#we calculate the factorscore (three first as they are, ignoring the three in the middle and using the last three as they are reversed)\n",
    "#using a simple sum\n",
    "belonging_recoded1['score'] = belonging_recoded1.sum(axis = 1)"
   ],
   "metadata": {
    "collapsed": false
   }
  },
  {
   "cell_type": "code",
   "execution_count": 17,
   "outputs": [
    {
     "name": "stdout",
     "output_type": "stream",
     "text": [
      "The general statistics for the belonging instrument are as following\n",
      "Max 25\n",
      "Min 6\n",
      "Standard deviation 3.65\n",
      "Mean 18.52\n",
      "Mode 18\n",
      "Median 19.0\n",
      "N = 153\n"
     ]
    }
   ],
   "source": [
    "#lets print out some general statistics\n",
    "print(\"The general statistics for the belonging instrument are as following\")\n",
    "print(f\"Max {max(belonging_recoded1['score'])}\")\n",
    "print(f\"Min {min(belonging_recoded1['score'])}\")\n",
    "print(f\"Standard deviation {round(np.std(belonging_recoded1['score']),2)}\")\n",
    "print(f\"Mean {round(np.mean(belonging_recoded1['score']),2)}\")\n",
    "print(f\"Mode {statistics.mode(belonging_recoded1['score'])}\")\n",
    "print(f\"Median {np.median(belonging_recoded1['score'])}\")\n",
    "print(f\"N = {len(belonging_recoded1)}\")"
   ],
   "metadata": {
    "collapsed": false
   }
  },
  {
   "cell_type": "code",
   "execution_count": 18,
   "outputs": [
    {
     "data": {
      "text/plain": "<Figure size 500x500 with 1 Axes>",
      "image/png": "[encoded data removed]"
     },
     "metadata": {},
     "output_type": "display_data"
    }
   ],
   "source": [
    "sns.displot(belonging_recoded1, x = 'score', kde = True, binwidth = 3)\n",
    "plt.show()"
   ],
   "metadata": {
    "collapsed": false
   }
  },
  {
   "cell_type": "code",
   "execution_count": 20,
   "outputs": [
    {
     "data": {
      "text/plain": "     bl2  bl3  bl4_  bl5_  bl6_\n0      2    3     3     2     4\n1      4    5     5     5     5\n2      2    4     3     4     5\n3      2    1     2     1     3\n4      1    2     2     2     5\n..   ...  ...   ...   ...   ...\n148    5    4     1     3     2\n149    3    4     3     3     5\n150    3    4     3     3     5\n151    4    5     4     5     5\n152    3    2     2     2     5\n\n[153 rows x 5 columns]",
      "text/html": "<div>\n<style scoped>\n    .dataframe tbody tr th:only-of-type {\n        vertical-align: middle;\n    }\n\n    .dataframe tbody tr th {\n        vertical-align: top;\n    }\n\n    .dataframe thead th {\n        text-align: right;\n    }\n</style>\n<table border=\"1\" class=\"dataframe\">\n  <thead>\n    <tr style=\"text-align: right;\">\n      <th></th>\n      <th>bl2</th>\n      <th>bl3</th>\n      <th>bl4_</th>\n      <th>bl5_</th>\n      <th>bl6_</th>\n    </tr>\n  </thead>\n  <tbody>\n    <tr>\n      <th>0</th>\n      <td>2</td>\n      <td>3</td>\n      <td>3</td>\n      <td>2</td>\n      <td>4</td>\n    </tr>\n    <tr>\n      <th>1</th>\n      <td>4</td>\n      <td>5</td>\n      <td>5</td>\n      <td>5</td>\n      <td>5</td>\n    </tr>\n    <tr>\n      <th>2</th>\n      <td>2</td>\n      <td>4</td>\n      <td>3</td>\n      <td>4</td>\n      <td>5</td>\n    </tr>\n    <tr>\n      <th>3</th>\n      <td>2</td>\n      <td>1</td>\n      <td>2</td>\n      <td>1</td>\n      <td>3</td>\n    </tr>\n    <tr>\n      <th>4</th>\n      <td>1</td>\n      <td>2</td>\n      <td>2</td>\n      <td>2</td>\n      <td>5</td>\n    </tr>\n    <tr>\n      <th>...</th>\n      <td>...</td>\n      <td>...</td>\n      <td>...</td>\n      <td>...</td>\n      <td>...</td>\n    </tr>\n    <tr>\n      <th>148</th>\n      <td>5</td>\n      <td>4</td>\n      <td>1</td>\n      <td>3</td>\n      <td>2</td>\n    </tr>\n    <tr>\n      <th>149</th>\n      <td>3</td>\n      <td>4</td>\n      <td>3</td>\n      <td>3</td>\n      <td>5</td>\n    </tr>\n    <tr>\n      <th>150</th>\n      <td>3</td>\n      <td>4</td>\n      <td>3</td>\n      <td>3</td>\n      <td>5</td>\n    </tr>\n    <tr>\n      <th>151</th>\n      <td>4</td>\n      <td>5</td>\n      <td>4</td>\n      <td>5</td>\n      <td>5</td>\n    </tr>\n    <tr>\n      <th>152</th>\n      <td>3</td>\n      <td>2</td>\n      <td>2</td>\n      <td>2</td>\n      <td>5</td>\n    </tr>\n  </tbody>\n</table>\n<p>153 rows × 5 columns</p>\n</div>"
     },
     "execution_count": 20,
     "metadata": {},
     "output_type": "execute_result"
    }
   ],
   "source": [
    "belonging_recoded1.loc[:,['bl2','bl3','bl4_','bl5_','bl6_']]"
   ],
   "metadata": {
    "collapsed": false
   }
  },
  {
   "cell_type": "code",
   "execution_count": 22,
   "outputs": [
    {
     "data": {
      "text/plain": "<Figure size 640x480 with 2 Axes>",
      "image/png": "[encoded data removed]"
     },
     "metadata": {},
     "output_type": "display_data"
    }
   ],
   "source": [
    "#lets look at the correlations between items\n",
    "bl_corr = belonging_recoded1.loc[:,['bl2','bl3','bl4_','bl5_','bl6_']].corr()\n",
    "bl_corr = round(bl_corr,2)\n",
    "colored_bl_corr = sns.heatmap(bl_corr, annot = True);\n",
    "colored_bl_corr\n",
    "plt.show()\n",
    "plt.close()"
   ],
   "metadata": {
    "collapsed": false
   }
  },
  {
   "cell_type": "markdown",
   "source": [
    "# Cronbach's alpha as a measure of consistency"
   ],
   "metadata": {
    "collapsed": false
   }
  },
  {
   "cell_type": "code",
   "execution_count": 23,
   "outputs": [
    {
     "data": {
      "text/plain": "(0.7652215380282413, array([0.701, 0.819]))"
     },
     "execution_count": 23,
     "metadata": {},
     "output_type": "execute_result"
    }
   ],
   "source": [
    "import pingouin as pg\n",
    "#cronbach for self-efficacy instrument\n",
    "pg.cronbach_alpha(data=belonging_recoded1.loc[:,['bl2','bl3','bl4_','bl5_','bl6_']])"
   ],
   "metadata": {
    "collapsed": false
   }
  },
  {
   "cell_type": "markdown",
   "source": [
    "\"A high value of Cronbach's alpha indicates internal consistency\"\n",
    "0.7 to 0.8 is an okay value"
   ],
   "metadata": {
    "collapsed": false
   }
  },
  {
   "cell_type": "code",
   "execution_count": 24,
   "outputs": [],
   "source": [
    "#the original data has participant names as the last column. we will need it later to merge with other data\n",
    "names = reflex.iloc[:,-1]\n",
    "#add the name column\n",
    "belonging_recoded1['name'] = names\n",
    "#only select the name and score\n",
    "belonging_scores = belonging_recoded1.loc[:,['name','score']]\n",
    "#save to file just in case\n",
    "belonging_scores.to_csv('belonging_scores.csv', index = False)\n"
   ],
   "metadata": {
    "collapsed": false
   }
  }
 ],
 "metadata": {
  "kernelspec": {
   "display_name": "Python 3",
   "language": "python",
   "name": "python3"
  },
  "language_info": {
   "codemirror_mode": {
    "name": "ipython",
    "version": 2
   },
   "file_extension": ".py",
   "mimetype": "text/x-python",
   "name": "python",
   "nbconvert_exporter": "python",
   "pygments_lexer": "ipython2",
   "version": "2.7.6"
  }
 },
 "nbformat": 4,
 "nbformat_minor": 0
}
