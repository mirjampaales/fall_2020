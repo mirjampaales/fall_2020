{
 "cells": [
  {
   "cell_type": "code",
   "execution_count": 1,
   "outputs": [
    {
     "name": "stderr",
     "output_type": "stream",
     "text": [
      "C:\\Users\\Mirjam\\AppData\\Local\\Temp\\ipykernel_9120\\4165315372.py:4: DeprecationWarning: Please use `pearsonr` from the `scipy.stats` namespace, the `scipy.stats.stats` namespace is deprecated.\n",
      "  from scipy.stats.stats import pearsonr\n"
     ]
    }
   ],
   "source": [
    "#setup\n",
    "import pandas as pd\n",
    "import researchpy as rp\n",
    "from scipy.stats.stats import pearsonr\n",
    "\n",
    "import numpy as np\n",
    "import seaborn as sns\n",
    "import matplotlib.pyplot as plt"
   ],
   "metadata": {
    "collapsed": false
   }
  },
  {
   "cell_type": "code",
   "execution_count": 2,
   "metadata": {
    "collapsed": true
   },
   "outputs": [],
   "source": [
    "data = pd.read_csv('2020studentdata.csv')\n",
    "\n",
    "#create some smaller datasets to check some hypothesis later\n",
    "just_on_track = data[data['on_track'] == 1]\n",
    "just_on_track = just_on_track.drop(columns=['on_track'])\n",
    "just_men = data[data['GENDERMALE'] == 1]\n",
    "just_men = just_men.drop(columns=['GENDERMALE'])\n",
    "extended_exam = data[data['exam_type'] == 'extended']"
   ]
  },
  {
   "cell_type": "code",
   "execution_count": 21,
   "outputs": [
    {
     "data": {
      "text/plain": "        fall GPA  spring GPA  GENDERMALE     age  math_exam  se_score  \\\ncount     135.00      135.00      135.00  135.00     132.00    135.00   \nunique       NaN         NaN         NaN     NaN        NaN       NaN   \ntop          NaN         NaN         NaN     NaN        NaN       NaN   \nfreq         NaN         NaN         NaN     NaN        NaN       NaN   \nmean        3.42        2.84        0.73   20.89      75.54     11.42   \nstd         1.06        1.54        0.45    3.42      20.11      1.91   \nmin         0.50        0.00        0.00   18.00       6.00      5.00   \n25%         2.60        2.00        0.00   19.00      65.75     10.00   \n50%         3.60        3.00        1.00   20.00      80.50     12.00   \n75%         4.20        4.22        1.00   21.00      90.00     13.00   \nmax         5.00        5.00        1.00   37.00     100.00     15.00   \n\n        bl_score  on_track exam_type  \ncount     135.00    135.00       132  \nunique       NaN       NaN         3  \ntop          NaN       NaN  extended  \nfreq         NaN       NaN       114  \nmean       18.70      0.77       NaN  \nstd         3.54      0.42       NaN  \nmin         9.00      0.00       NaN  \n25%        17.00      1.00       NaN  \n50%        19.00      1.00       NaN  \n75%        21.00      1.00       NaN  \nmax        25.00      1.00       NaN  ",
      "text/html": "<div>\n<style scoped>\n    .dataframe tbody tr th:only-of-type {\n        vertical-align: middle;\n    }\n\n    .dataframe tbody tr th {\n        vertical-align: top;\n    }\n\n    .dataframe thead th {\n        text-align: right;\n    }\n</style>\n<table border=\"1\" class=\"dataframe\">\n  <thead>\n    <tr style=\"text-align: right;\">\n      <th></th>\n      <th>fall GPA</th>\n      <th>spring GPA</th>\n      <th>GENDERMALE</th>\n      <th>age</th>\n      <th>math_exam</th>\n      <th>se_score</th>\n      <th>bl_score</th>\n      <th>on_track</th>\n      <th>exam_type</th>\n    </tr>\n  </thead>\n  <tbody>\n    <tr>\n      <th>count</th>\n      <td>135.00</td>\n      <td>135.00</td>\n      <td>135.00</td>\n      <td>135.00</td>\n      <td>132.00</td>\n      <td>135.00</td>\n      <td>135.00</td>\n      <td>135.00</td>\n      <td>132</td>\n    </tr>\n    <tr>\n      <th>unique</th>\n      <td>NaN</td>\n      <td>NaN</td>\n      <td>NaN</td>\n      <td>NaN</td>\n      <td>NaN</td>\n      <td>NaN</td>\n      <td>NaN</td>\n      <td>NaN</td>\n      <td>3</td>\n    </tr>\n    <tr>\n      <th>top</th>\n      <td>NaN</td>\n      <td>NaN</td>\n      <td>NaN</td>\n      <td>NaN</td>\n      <td>NaN</td>\n      <td>NaN</td>\n      <td>NaN</td>\n      <td>NaN</td>\n      <td>extended</td>\n    </tr>\n    <tr>\n      <th>freq</th>\n      <td>NaN</td>\n      <td>NaN</td>\n      <td>NaN</td>\n      <td>NaN</td>\n      <td>NaN</td>\n      <td>NaN</td>\n      <td>NaN</td>\n      <td>NaN</td>\n      <td>114</td>\n    </tr>\n    <tr>\n      <th>mean</th>\n      <td>3.42</td>\n      <td>2.84</td>\n      <td>0.73</td>\n      <td>20.89</td>\n      <td>75.54</td>\n      <td>11.42</td>\n      <td>18.70</td>\n      <td>0.77</td>\n      <td>NaN</td>\n    </tr>\n    <tr>\n      <th>std</th>\n      <td>1.06</td>\n      <td>1.54</td>\n      <td>0.45</td>\n      <td>3.42</td>\n      <td>20.11</td>\n      <td>1.91</td>\n      <td>3.54</td>\n      <td>0.42</td>\n      <td>NaN</td>\n    </tr>\n    <tr>\n      <th>min</th>\n      <td>0.50</td>\n      <td>0.00</td>\n      <td>0.00</td>\n      <td>18.00</td>\n      <td>6.00</td>\n      <td>5.00</td>\n      <td>9.00</td>\n      <td>0.00</td>\n      <td>NaN</td>\n    </tr>\n    <tr>\n      <th>25%</th>\n      <td>2.60</td>\n      <td>2.00</td>\n      <td>0.00</td>\n      <td>19.00</td>\n      <td>65.75</td>\n      <td>10.00</td>\n      <td>17.00</td>\n      <td>1.00</td>\n      <td>NaN</td>\n    </tr>\n    <tr>\n      <th>50%</th>\n      <td>3.60</td>\n      <td>3.00</td>\n      <td>1.00</td>\n      <td>20.00</td>\n      <td>80.50</td>\n      <td>12.00</td>\n      <td>19.00</td>\n      <td>1.00</td>\n      <td>NaN</td>\n    </tr>\n    <tr>\n      <th>75%</th>\n      <td>4.20</td>\n      <td>4.22</td>\n      <td>1.00</td>\n      <td>21.00</td>\n      <td>90.00</td>\n      <td>13.00</td>\n      <td>21.00</td>\n      <td>1.00</td>\n      <td>NaN</td>\n    </tr>\n    <tr>\n      <th>max</th>\n      <td>5.00</td>\n      <td>5.00</td>\n      <td>1.00</td>\n      <td>37.00</td>\n      <td>100.00</td>\n      <td>15.00</td>\n      <td>25.00</td>\n      <td>1.00</td>\n      <td>NaN</td>\n    </tr>\n  </tbody>\n</table>\n</div>"
     },
     "execution_count": 21,
     "metadata": {},
     "output_type": "execute_result"
    }
   ],
   "source": [
    "round(data.describe(include='all'),2)"
   ],
   "metadata": {
    "collapsed": false
   }
  },
  {
   "cell_type": "code",
   "execution_count": 4,
   "outputs": [
    {
     "data": {
      "text/plain": "<Figure size 640x480 with 2 Axes>",
      "image/png": "[encoded data removed]"
     },
     "metadata": {},
     "output_type": "display_data"
    }
   ],
   "source": [
    "cormat = data.corr()\n",
    "cormat = round(cormat,2)\n",
    "sns.heatmap(cormat, annot = True); #correlation matrix with just the students that took the extended math exam\n",
    "plt.show()\n",
    "plt.close()"
   ],
   "metadata": {
    "collapsed": false
   }
  },
  {
   "cell_type": "code",
   "execution_count": 22,
   "outputs": [
    {
     "data": {
      "text/plain": "            fall GPA  spring GPA  GENDERMALE   age  math_exam  se_score  \\\nfall GPA        1.00        0.75       -0.19 -0.15       0.48      0.30   \nspring GPA      0.75        1.00       -0.16 -0.12       0.34      0.17   \nGENDERMALE     -0.19       -0.16        1.00  0.01      -0.17      0.25   \nage            -0.15       -0.12        0.01  1.00       0.03     -0.05   \nmath_exam       0.48        0.34       -0.17  0.03       1.00      0.25   \nse_score        0.30        0.17        0.25 -0.05       0.25      1.00   \nbl_score        0.15        0.12        0.01 -0.08       0.01      0.27   \non_track        0.42        0.53        0.06 -0.19       0.18      0.21   \n\n            bl_score  on_track  \nfall GPA        0.15      0.42  \nspring GPA      0.12      0.53  \nGENDERMALE      0.01      0.06  \nage            -0.08     -0.19  \nmath_exam       0.01      0.18  \nse_score        0.27      0.21  \nbl_score        1.00      0.09  \non_track        0.09      1.00  ",
      "text/html": "<div>\n<style scoped>\n    .dataframe tbody tr th:only-of-type {\n        vertical-align: middle;\n    }\n\n    .dataframe tbody tr th {\n        vertical-align: top;\n    }\n\n    .dataframe thead th {\n        text-align: right;\n    }\n</style>\n<table border=\"1\" class=\"dataframe\">\n  <thead>\n    <tr style=\"text-align: right;\">\n      <th></th>\n      <th>fall GPA</th>\n      <th>spring GPA</th>\n      <th>GENDERMALE</th>\n      <th>age</th>\n      <th>math_exam</th>\n      <th>se_score</th>\n      <th>bl_score</th>\n      <th>on_track</th>\n    </tr>\n  </thead>\n  <tbody>\n    <tr>\n      <th>fall GPA</th>\n      <td>1.00</td>\n      <td>0.75</td>\n      <td>-0.19</td>\n      <td>-0.15</td>\n      <td>0.48</td>\n      <td>0.30</td>\n      <td>0.15</td>\n      <td>0.42</td>\n    </tr>\n    <tr>\n      <th>spring GPA</th>\n      <td>0.75</td>\n      <td>1.00</td>\n      <td>-0.16</td>\n      <td>-0.12</td>\n      <td>0.34</td>\n      <td>0.17</td>\n      <td>0.12</td>\n      <td>0.53</td>\n    </tr>\n    <tr>\n      <th>GENDERMALE</th>\n      <td>-0.19</td>\n      <td>-0.16</td>\n      <td>1.00</td>\n      <td>0.01</td>\n      <td>-0.17</td>\n      <td>0.25</td>\n      <td>0.01</td>\n      <td>0.06</td>\n    </tr>\n    <tr>\n      <th>age</th>\n      <td>-0.15</td>\n      <td>-0.12</td>\n      <td>0.01</td>\n      <td>1.00</td>\n      <td>0.03</td>\n      <td>-0.05</td>\n      <td>-0.08</td>\n      <td>-0.19</td>\n    </tr>\n    <tr>\n      <th>math_exam</th>\n      <td>0.48</td>\n      <td>0.34</td>\n      <td>-0.17</td>\n      <td>0.03</td>\n      <td>1.00</td>\n      <td>0.25</td>\n      <td>0.01</td>\n      <td>0.18</td>\n    </tr>\n    <tr>\n      <th>se_score</th>\n      <td>0.30</td>\n      <td>0.17</td>\n      <td>0.25</td>\n      <td>-0.05</td>\n      <td>0.25</td>\n      <td>1.00</td>\n      <td>0.27</td>\n      <td>0.21</td>\n    </tr>\n    <tr>\n      <th>bl_score</th>\n      <td>0.15</td>\n      <td>0.12</td>\n      <td>0.01</td>\n      <td>-0.08</td>\n      <td>0.01</td>\n      <td>0.27</td>\n      <td>1.00</td>\n      <td>0.09</td>\n    </tr>\n    <tr>\n      <th>on_track</th>\n      <td>0.42</td>\n      <td>0.53</td>\n      <td>0.06</td>\n      <td>-0.19</td>\n      <td>0.18</td>\n      <td>0.21</td>\n      <td>0.09</td>\n      <td>1.00</td>\n    </tr>\n  </tbody>\n</table>\n</div>"
     },
     "execution_count": 22,
     "metadata": {},
     "output_type": "execute_result"
    }
   ],
   "source": [
    "#a simple correlation matrix for reporting\n",
    "cormat"
   ],
   "metadata": {
    "collapsed": false
   }
  },
  {
   "cell_type": "code",
   "execution_count": 41,
   "outputs": [
    {
     "data": {
      "text/plain": "Index(['fall GPA', 'spring GPA', 'GENDERMALE', 'age', 'math_exam', 'se_score',\n       'bl_score', 'on_track', 'exam_type'],\n      dtype='object')"
     },
     "execution_count": 41,
     "metadata": {},
     "output_type": "execute_result"
    }
   ],
   "source": [
    "complete_data = data.dropna(axis=0)\n",
    "complete_data.columns"
   ],
   "metadata": {
    "collapsed": false
   }
  },
  {
   "cell_type": "code",
   "execution_count": 71,
   "outputs": [],
   "source": [
    "m = []\n",
    "#m.append(complete_data.columns[:-1])\n",
    "for c1 in complete_data.columns[:-1]:\n",
    "    row = []\n",
    "    row.append(c1)\n",
    "    for c2 in complete_data.columns[:-1]:\n",
    "        #print(c1)\n",
    "        #print(c2)\n",
    "        #print(pearsonr(complete_data[c1], complete_data[c2]))\n",
    "        p = pearsonr(complete_data[c1], complete_data[c2]).pvalue\n",
    "        if p < 0.05: #if p value is below 0.05 threshold\n",
    "            row.append(round(p,2))\n",
    "        else:\n",
    "            row.append('meh') #not significant\n",
    "    m.append(row)"
   ],
   "metadata": {
    "collapsed": false
   }
  },
  {
   "cell_type": "code",
   "execution_count": 72,
   "outputs": [
    {
     "data": {
      "text/plain": "array([['fall GPA', 'spring GPA', 'GENDERMALE', 'age', 'math_exam',\n        'se_score', 'bl_score', 'on_track'],\n       ['0.0', '0.0', '0.02', 'meh', '0.0', '0.0', 'meh', '0.0'],\n       ['0.0', '0.0', 'meh', 'meh', '0.0', '0.04', 'meh', '0.0'],\n       ['0.02', 'meh', '0.0', 'meh', '0.05', '0.0', 'meh', 'meh'],\n       ['meh', 'meh', 'meh', '0.0', 'meh', 'meh', 'meh', '0.03'],\n       ['0.0', '0.0', '0.05', 'meh', '0.0', '0.0', 'meh', '0.04'],\n       ['0.0', '0.04', '0.0', 'meh', '0.0', '0.0', '0.0', '0.01'],\n       ['meh', 'meh', 'meh', 'meh', 'meh', '0.0', '0.0', 'meh'],\n       ['0.0', '0.0', 'meh', '0.03', '0.04', '0.01', 'meh', '0.0']],\n      dtype='<U32')"
     },
     "execution_count": 72,
     "metadata": {},
     "output_type": "execute_result"
    }
   ],
   "source": [
    "np.stack(m, axis=1)"
   ],
   "metadata": {
    "collapsed": false
   }
  },
  {
   "cell_type": "markdown",
   "source": [
    "# Statistical tests for comparing groups\n",
    "Here we present the summaries and results of t-tests comparing male and female students. Only the statistically significant differences are presented.\n",
    "There is a statistically significant difference between male and female students in the following variables:\n",
    "1. First semester GPA (women have higher grades)\n",
    "2. Math exam (women have higher scores)\n",
    "3. Self-efficacy (men have higher scores)"
   ],
   "metadata": {
    "collapsed": false
   }
  },
  {
   "cell_type": "code",
   "execution_count": 73,
   "outputs": [
    {
     "name": "stdout",
     "output_type": "stream",
     "text": [
      "   Variable      N      Mean        SD        SE  95% Conf.  Interval\n",
      "0      Male   98.0  3.290306  1.109900  0.112117   3.067785  3.512827\n",
      "1    Female   37.0  3.747297  0.852769  0.140194   3.462970  4.031625\n",
      "2  combined  135.0  3.415556  1.062527  0.091448   3.234688  3.596423\n",
      "              Independent t-test   results\n",
      "0  Difference (Male - Female) =    -0.4570\n",
      "1          Degrees of freedom =   133.0000\n",
      "2                           t =    -2.2630\n",
      "3       Two side test p value =     0.0253\n",
      "4      Difference < 0 p value =     0.0126\n",
      "5      Difference > 0 p value =     0.9874\n",
      "6                   Cohen's d =    -0.4367\n",
      "7                   Hedge's g =    -0.4342\n",
      "8              Glass's delta1 =    -0.4117\n",
      "9            Point-Biserial r =    -0.1926\n"
     ]
    },
    {
     "name": "stderr",
     "output_type": "stream",
     "text": [
      "C:\\ProgramData\\Anaconda3\\lib\\site-packages\\researchpy\\ttest.py:38: FutureWarning: The series.append method is deprecated and will be removed from pandas in a future version. Use pandas.concat instead.\n",
      "  groups = group1.append(group2, ignore_index= True)\n"
     ]
    }
   ],
   "source": [
    "summary, results = rp.ttest(group1= data['fall GPA'][data['GENDERMALE'] == 1], group1_name= \"Male\",\n",
    "                            group2= data['fall GPA'][data['GENDERMALE'] == 0], group2_name= \"Female\")\n",
    "print(summary)\n",
    "print(results)"
   ],
   "metadata": {
    "collapsed": false
   }
  },
  {
   "cell_type": "code",
   "execution_count": 74,
   "outputs": [
    {
     "name": "stdout",
     "output_type": "stream",
     "text": [
      "   Variable      N       Mean         SD        SE  95% Conf.   Interval\n",
      "0      Male   95.0  73.389474  21.079028  2.162663  69.095456  77.683491\n",
      "1    Female   37.0  81.054054  16.382487  2.693264  75.591861  86.516247\n",
      "2  combined  132.0  75.537879  20.112814  1.750596  72.074783  79.000975\n",
      "              Independent t-test   results\n",
      "0  Difference (Male - Female) =    -7.6646\n",
      "1          Degrees of freedom =   130.0000\n",
      "2                           t =    -1.9885\n",
      "3       Two side test p value =     0.0489\n",
      "4      Difference < 0 p value =     0.0244\n",
      "5      Difference > 0 p value =     0.9756\n",
      "6                   Cohen's d =    -0.3854\n",
      "7                   Hedge's g =    -0.3831\n",
      "8              Glass's delta1 =    -0.3636\n",
      "9            Point-Biserial r =    -0.1718\n"
     ]
    },
    {
     "name": "stderr",
     "output_type": "stream",
     "text": [
      "C:\\ProgramData\\Anaconda3\\lib\\site-packages\\researchpy\\ttest.py:38: FutureWarning: The series.append method is deprecated and will be removed from pandas in a future version. Use pandas.concat instead.\n",
      "  groups = group1.append(group2, ignore_index= True)\n"
     ]
    }
   ],
   "source": [
    "summary, results = rp.ttest(group1= data['math_exam'][data['GENDERMALE'] == 1], group1_name= \"Male\",\n",
    "                            group2= data['math_exam'][data['GENDERMALE'] == 0], group2_name= \"Female\")\n",
    "print(summary)\n",
    "print(results)"
   ],
   "metadata": {
    "collapsed": false
   }
  },
  {
   "cell_type": "code",
   "execution_count": 75,
   "outputs": [
    {
     "name": "stdout",
     "output_type": "stream",
     "text": [
      "   Variable      N       Mean        SD        SE  95% Conf.   Interval\n",
      "0      Male   98.0  11.714286  1.746868  0.176460  11.364061  12.064511\n",
      "1    Female   37.0  10.648649  2.111032  0.347052   9.944796  11.352502\n",
      "2  combined  135.0  11.422222  1.906261  0.164065  11.097731  11.746714\n",
      "              Independent t-test   results\n",
      "0  Difference (Male - Female) =     1.0656\n",
      "1          Degrees of freedom =   133.0000\n",
      "2                           t =     2.9812\n",
      "3       Two side test p value =     0.0034\n",
      "4      Difference < 0 p value =     0.9983\n",
      "5      Difference > 0 p value =     0.0017\n",
      "6                   Cohen's d =     0.5752\n",
      "7                   Hedge's g =     0.5720\n",
      "8              Glass's delta1 =     0.6100\n",
      "9            Point-Biserial r =     0.2503\n"
     ]
    },
    {
     "name": "stderr",
     "output_type": "stream",
     "text": [
      "C:\\ProgramData\\Anaconda3\\lib\\site-packages\\researchpy\\ttest.py:38: FutureWarning: The series.append method is deprecated and will be removed from pandas in a future version. Use pandas.concat instead.\n",
      "  groups = group1.append(group2, ignore_index= True)\n"
     ]
    }
   ],
   "source": [
    "summary, results = rp.ttest(group1= data['se_score'][data['GENDERMALE'] == 1], group1_name= \"Male\",\n",
    "                            group2= data['se_score'][data['GENDERMALE'] == 0], group2_name= \"Female\")\n",
    "print(summary)\n",
    "print(results)"
   ],
   "metadata": {
    "collapsed": false
   }
  },
  {
   "cell_type": "markdown",
   "source": [
    "# Modelling"
   ],
   "metadata": {
    "collapsed": false
   }
  },
  {
   "cell_type": "code",
   "execution_count": 8,
   "outputs": [],
   "source": [
    "complete_data = data.dropna(axis=0)"
   ],
   "metadata": {
    "collapsed": false
   }
  },
  {
   "cell_type": "code",
   "execution_count": 10,
   "outputs": [
    {
     "data": {
      "text/plain": "132"
     },
     "execution_count": 10,
     "metadata": {},
     "output_type": "execute_result"
    }
   ],
   "source": [
    "len(complete_data)"
   ],
   "metadata": {
    "collapsed": false
   }
  },
  {
   "cell_type": "code",
   "execution_count": 17,
   "outputs": [
    {
     "name": "stdout",
     "output_type": "stream",
     "text": [
      "                            OLS Regression Results                            \n",
      "==============================================================================\n",
      "Dep. Variable:               fall GPA   R-squared:                       0.181\n",
      "Model:                            OLS   Adj. R-squared:                  0.162\n",
      "Method:                 Least Squares   F-statistic:                     9.426\n",
      "Date:                Wed, 21 Dec 2022   Prob (F-statistic):           1.13e-05\n",
      "Time:                        14:57:26   Log-Likelihood:                -179.35\n",
      "No. Observations:                 132   AIC:                             366.7\n",
      "Df Residuals:                     128   BIC:                             378.2\n",
      "Df Model:                           3                                         \n",
      "Covariance Type:            nonrobust                                         \n",
      "==============================================================================\n",
      "                 coef    std err          t      P>|t|      [0.025      0.975]\n",
      "------------------------------------------------------------------------------\n",
      "const          1.2821      0.595      2.156      0.033       0.105       2.459\n",
      "GENDERMALE    -0.6696      0.192     -3.494      0.001      -1.049      -0.290\n",
      "se_score       0.1984      0.047      4.255      0.000       0.106       0.291\n",
      "bl_score       0.0189      0.025      0.771      0.442      -0.030       0.067\n",
      "==============================================================================\n",
      "Omnibus:                        6.849   Durbin-Watson:                   1.893\n",
      "Prob(Omnibus):                  0.033   Jarque-Bera (JB):                6.691\n",
      "Skew:                          -0.548   Prob(JB):                       0.0352\n",
      "Kurtosis:                       3.125   Cond. No.                         159.\n",
      "==============================================================================\n",
      "\n",
      "Notes:\n",
      "[1] Standard Errors assume that the covariance matrix of the errors is correctly specified.\n"
     ]
    }
   ],
   "source": [
    "#tutorial from https://www.statology.org/sklearn-linear-regression-summary/\n",
    "import statsmodels.api as sm\n",
    "\n",
    "#define response variable\n",
    "y = complete_data['fall GPA']\n",
    "\n",
    "#define predictor variables\n",
    "x = complete_data[['GENDERMALE', 'se_score', 'bl_score']]\n",
    "\n",
    "\n",
    "#add constant to predictor variables\n",
    "x = sm.add_constant(x)\n",
    "\n",
    "#fit linear regression model\n",
    "model = sm.OLS(y, x).fit()\n",
    "\n",
    "#view model summary\n",
    "print(model.summary())"
   ],
   "metadata": {
    "collapsed": false
   }
  },
  {
   "cell_type": "markdown",
   "source": [
    "# Subsets of data to test for alternative variables and their effect"
   ],
   "metadata": {
    "collapsed": false
   }
  },
  {
   "cell_type": "code",
   "execution_count": 12,
   "outputs": [],
   "source": [
    "complete_data_extendedmath = complete_data[complete_data['exam_type']=='extended']"
   ],
   "metadata": {
    "collapsed": false
   }
  },
  {
   "cell_type": "code",
   "execution_count": 14,
   "outputs": [
    {
     "data": {
      "text/plain": "114"
     },
     "execution_count": 14,
     "metadata": {},
     "output_type": "execute_result"
    }
   ],
   "source": [
    "len(complete_data_extendedmath)"
   ],
   "metadata": {
    "collapsed": false
   }
  },
  {
   "cell_type": "code",
   "execution_count": 15,
   "outputs": [
    {
     "name": "stdout",
     "output_type": "stream",
     "text": [
      "                            OLS Regression Results                            \n",
      "==============================================================================\n",
      "Dep. Variable:               fall GPA   R-squared:                       0.315\n",
      "Model:                            OLS   Adj. R-squared:                  0.290\n",
      "Method:                 Least Squares   F-statistic:                     12.56\n",
      "Date:                Wed, 21 Dec 2022   Prob (F-statistic):           1.95e-08\n",
      "Time:                        14:54:50   Log-Likelihood:                -144.31\n",
      "No. Observations:                 114   AIC:                             298.6\n",
      "Df Residuals:                     109   BIC:                             312.3\n",
      "Df Model:                           4                                         \n",
      "Covariance Type:            nonrobust                                         \n",
      "==============================================================================\n",
      "                 coef    std err          t      P>|t|      [0.025      0.975]\n",
      "------------------------------------------------------------------------------\n",
      "const          0.1890      0.649      0.291      0.772      -1.098       1.476\n",
      "GENDERMALE    -0.4714      0.192     -2.453      0.016      -0.852      -0.091\n",
      "se_score       0.1101      0.052      2.119      0.036       0.007       0.213\n",
      "bl_score       0.0364      0.025      1.479      0.142      -0.012       0.085\n",
      "math_exam      0.0218      0.005      4.753      0.000       0.013       0.031\n",
      "==============================================================================\n",
      "Omnibus:                       20.914   Durbin-Watson:                   1.705\n",
      "Prob(Omnibus):                  0.000   Jarque-Bera (JB):               26.246\n",
      "Skew:                          -1.013   Prob(JB):                     2.00e-06\n",
      "Kurtosis:                       4.191   Cond. No.                         647.\n",
      "==============================================================================\n",
      "\n",
      "Notes:\n",
      "[1] Standard Errors assume that the covariance matrix of the errors is correctly specified.\n"
     ]
    }
   ],
   "source": [
    "#define response variable\n",
    "y = complete_data_extendedmath['fall GPA']\n",
    "\n",
    "#define predictor variables\n",
    "x = complete_data_extendedmath[['GENDERMALE', 'se_score', 'bl_score', 'math_exam']]\n",
    "\n",
    "#add constant to predictor variables\n",
    "x = sm.add_constant(x)\n",
    "\n",
    "#fit linear regression model\n",
    "model = sm.OLS(y, x).fit()\n",
    "\n",
    "#view model summary\n",
    "print(model.summary())"
   ],
   "metadata": {
    "collapsed": false
   }
  },
  {
   "cell_type": "code",
   "execution_count": 18,
   "outputs": [],
   "source": [
    "complete_data_men = complete_data[complete_data['GENDERMALE']==1]"
   ],
   "metadata": {
    "collapsed": false
   }
  },
  {
   "cell_type": "code",
   "execution_count": 19,
   "outputs": [
    {
     "data": {
      "text/plain": "95"
     },
     "execution_count": 19,
     "metadata": {},
     "output_type": "execute_result"
    }
   ],
   "source": [
    "len(complete_data_men)"
   ],
   "metadata": {
    "collapsed": false
   }
  },
  {
   "cell_type": "code",
   "execution_count": 20,
   "outputs": [
    {
     "name": "stdout",
     "output_type": "stream",
     "text": [
      "                            OLS Regression Results                            \n",
      "==============================================================================\n",
      "Dep. Variable:               fall GPA   R-squared:                       0.278\n",
      "Model:                            OLS   Adj. R-squared:                  0.258\n",
      "Method:                 Least Squares   F-statistic:                     14.10\n",
      "Date:                Wed, 21 Dec 2022   Prob (F-statistic):           7.71e-08\n",
      "Time:                        14:59:11   Log-Likelihood:                -147.37\n",
      "No. Observations:                 114   AIC:                             302.7\n",
      "Df Residuals:                     110   BIC:                             313.7\n",
      "Df Model:                           3                                         \n",
      "Covariance Type:            nonrobust                                         \n",
      "==============================================================================\n",
      "                 coef    std err          t      P>|t|      [0.025      0.975]\n",
      "------------------------------------------------------------------------------\n",
      "const          0.0020      0.659      0.003      0.998      -1.305       1.309\n",
      "se_score       0.0752      0.051      1.471      0.144      -0.026       0.176\n",
      "bl_score       0.0399      0.025      1.588      0.115      -0.010       0.090\n",
      "math_exam      0.0243      0.005      5.292      0.000       0.015       0.033\n",
      "==============================================================================\n",
      "Omnibus:                       20.967   Durbin-Watson:                   1.598\n",
      "Prob(Omnibus):                  0.000   Jarque-Bera (JB):               26.135\n",
      "Skew:                          -1.027   Prob(JB):                     2.11e-06\n",
      "Kurtosis:                       4.133   Cond. No.                         642.\n",
      "==============================================================================\n",
      "\n",
      "Notes:\n",
      "[1] Standard Errors assume that the covariance matrix of the errors is correctly specified.\n"
     ]
    }
   ],
   "source": [
    "#define response variable\n",
    "y = complete_data_extendedmath['fall GPA']\n",
    "\n",
    "#define predictor variables\n",
    "x = complete_data_extendedmath[['se_score', 'bl_score', 'math_exam']]\n",
    "\n",
    "#add constant to predictor variables\n",
    "x = sm.add_constant(x)\n",
    "\n",
    "#fit linear regression model\n",
    "model = sm.OLS(y, x).fit()\n",
    "\n",
    "#view model summary\n",
    "print(model.summary())"
   ],
   "metadata": {
    "collapsed": false
   }
  },
  {
   "cell_type": "markdown",
   "source": [],
   "metadata": {
    "collapsed": false
   }
  }
 ],
 "metadata": {
  "kernelspec": {
   "display_name": "Python 3",
   "language": "python",
   "name": "python3"
  },
  "language_info": {
   "codemirror_mode": {
    "name": "ipython",
    "version": 2
   },
   "file_extension": ".py",
   "mimetype": "text/x-python",
   "name": "python",
   "nbconvert_exporter": "python",
   "pygments_lexer": "ipython2",
   "version": "2.7.6"
  }
 },
 "nbformat": 4,
 "nbformat_minor": 0
}
