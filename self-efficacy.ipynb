{
 "cells": [
  {
   "cell_type": "code",
   "execution_count": 2,
   "metadata": {
    "collapsed": true
   },
   "outputs": [],
   "source": [
    "import pandas as pd\n",
    "import matplotlib.pyplot as plt\n",
    "import seaborn as sns\n",
    "import numpy as np\n",
    "from factor_analyzer import FactorAnalyzer\n",
    "np.set_printoptions(suppress=True) #supress the scientific notation"
   ]
  },
  {
   "cell_type": "code",
   "execution_count": 3,
   "outputs": [],
   "source": [
    "#import data from survey\n",
    "reflex = pd.read_csv(r'Data/reflex.csv', sep=';')\n",
    "#filtering according to consent\n",
    "reflex = reflex[reflex[\n",
    "                    'Käesoleva.küsimustiku.andmeid.kasutatakse.teadustöös...Analüüsi.tulemusi.kajastatakse.teadusartiklis.anonüümselt.ja.neid.ei.edastata.kolmandatele.isikutele....Olen.nõus..et.minu.vastuseid.kasutatakse.teadustöös.'] == 'Jah']\n"
   ],
   "metadata": {
    "collapsed": false
   }
  },
  {
   "cell_type": "code",
   "execution_count": 4,
   "outputs": [
    {
     "data": {
      "text/plain": "153"
     },
     "execution_count": 4,
     "metadata": {},
     "output_type": "execute_result"
    }
   ],
   "source": [
    "len(reflex)"
   ],
   "metadata": {
    "collapsed": false
   }
  },
  {
   "cell_type": "code",
   "execution_count": 5,
   "outputs": [
    {
     "data": {
      "text/plain": "Index(['Vastuse.ID', 'Kinnitamise.kuupäev', 'Viimane.lehekülg',\n       'Alustamise.keel', 'Alustamise.kuupäev', 'Viimase.tegevuse.kuupäev',\n       'IP.aadress',\n       'Käesoleva.küsimustiku.andmeid.kasutatakse.teadustöös...Analüüsi.tulemusi.kajastatakse.teadusartiklis.anonüümselt.ja.neid.ei.edastata.kolmandatele.isikutele....Olen.nõus..et.minu.vastuseid.kasutatakse.teadustöös.',\n       'Eesnimi', 'Perenimi',\n       'Palun.märgi..mil.määral.nõustud.järgmiste.väidetega...Mul.on.olemas.vajalikud.teadmised.ja.oskused..et.ülikoolis.hakkama.saada.',\n       'Palun.märgi..mil.määral.nõustud.järgmiste.väidetega...Ülikoolis.õppimine.on.väga.huvitav.ja.köitev.',\n       'Palun.märgi..mil.määral.nõustud.järgmiste.väidetega...Ma.töötan.kõvasti.heade.akadeemiliste.tulemuste.nimel.',\n       'Palun.märgi..mil.määral.nõustud.järgmiste.väidetega...Ma.olen.võimeline.saama.enamikus.ainetes.häid.tulemusi.',\n       'Palun.märgi..mil.määral.nõustud.järgmiste.väidetega...Vajadusel.loobun.muudest.tegevustest.heade.hinnete.nimel.',\n       'Palun.märgi..mil.määral.nõustud.järgmiste.väidetega...Ma.saan.hakkama.kõikide.ülikooli.ainetega.',\n       'Mõtle.semestri.algusele..Kas.ja.kuidas.on.praeguseks.muutunud.sinu.õppimisega.seotud.aja.planeerimine.',\n       'Mis.või.kes.on.sinu.ülikooliõpingutes.sind.toetanud.või.sulle.abiks.olnud..Kuidas.',\n       'Palun.märgi..mil.määral.nõustud.järgnevate.väidetega...Ma.leian..et.teised.peavad.minust.lugu..',\n       'Palun.märgi..mil.määral.nõustud.järgnevate.väidetega...Ma.leian.kergesti.sõpru..',\n       'Palun.märgi..mil.määral.nõustud.järgnevate.väidetega...Ma.tunnen..et.olen.osa.sellest.kursusest..',\n       'Palun.märgi..mil.määral.nõustud.järgnevate.väidetega...Ma.tunnen.end.koolis.kohmaka.ja.kohatuna..',\n       'Palun.märgi..mil.määral.nõustud.järgnevate.väidetega...Ma.tunnen.end.ülikoolis.üksikuna..',\n       'Palun.märgi..mil.määral.nõustud.järgnevate.väidetega...Ma.tunnen.end.ülikoolis.tõrjutuna..',\n       'vaba_kuuluvus', 'Aeg.kokku', 'Rühma.aeg..Nõusolek',\n       'Küsimuse.aeg..n6us', 'Rühma.aeg..Isikustamine',\n       'Küsimuse.aeg..eesnimi', 'Küsimuse.aeg..perenimi',\n       'Rühma.aeg..Akadeemiline.enesetõhusus', 'Küsimuse.aeg..eficacy',\n       'Rühma.aeg..Pikemad.tekstivastused', 'Küsimuse.aeg..muutunud',\n       'Küsimuse.aeg..toetanud', 'Rühma.aeg..Kuulumine',\n       'Küsimuse.aeg..kuulumine', 'Küsimuse.aeg..isekuluumine', 'nimi'],\n      dtype='object')"
     },
     "execution_count": 5,
     "metadata": {},
     "output_type": "execute_result"
    }
   ],
   "source": [
    "reflex.columns"
   ],
   "metadata": {
    "collapsed": false
   }
  },
  {
   "cell_type": "code",
   "execution_count": 6,
   "outputs": [],
   "source": [
    "#subset the main dataframe for self-efficacy scale\n",
    "self_eff = reflex.iloc[:,[10,13,15]] #only using the three statements from self-efficacy instrument"
   ],
   "metadata": {
    "collapsed": false
   }
  },
  {
   "cell_type": "code",
   "execution_count": 7,
   "outputs": [
    {
     "data": {
      "text/plain": "    Palun.märgi..mil.määral.nõustud.järgmiste.väidetega...Mul.on.olemas.vajalikud.teadmised.ja.oskused..et.ülikoolis.hakkama.saada.  \\\n0                                        üldiselt nõus                                                                                \n1                                         täiesti nõus                                                                                \n2                                         täiesti nõus                                                                                \n3                                        üldiselt nõus                                                                                \n4                                        üldiselt nõus                                                                                \n..                                                 ...                                                                                \n148                               ei ole üldiselt nõus                                                                                \n149                                      üldiselt nõus                                                                                \n150                                      üldiselt nõus                                                                                \n151                                      üldiselt nõus                                                                                \n152                                      üldiselt nõus                                                                                \n\n    Palun.märgi..mil.määral.nõustud.järgmiste.väidetega...Ma.olen.võimeline.saama.enamikus.ainetes.häid.tulemusi.  \\\n0                                        üldiselt nõus                                                              \n1                                         täiesti nõus                                                              \n2                                         täiesti nõus                                                              \n3                                        ei oska öelda                                                              \n4                                        üldiselt nõus                                                              \n..                                                 ...                                                              \n148                                      üldiselt nõus                                                              \n149                                      üldiselt nõus                                                              \n150                                      ei oska öelda                                                              \n151                               ei ole üldiselt nõus                                                              \n152                                      üldiselt nõus                                                              \n\n    Palun.märgi..mil.määral.nõustud.järgmiste.väidetega...Ma.saan.hakkama.kõikide.ülikooli.ainetega.  \n0                                        üldiselt nõus                                                \n1                                        üldiselt nõus                                                \n2                                        ei oska öelda                                                \n3                                 ei ole üldiselt nõus                                                \n4                                   ei ole sugugi nõus                                                \n..                                                 ...                                                \n148                                       täiesti nõus                                                \n149                                      ei oska öelda                                                \n150                                      üldiselt nõus                                                \n151                                 ei ole sugugi nõus                                                \n152                                      üldiselt nõus                                                \n\n[153 rows x 3 columns]",
      "text/html": "<div>\n<style scoped>\n    .dataframe tbody tr th:only-of-type {\n        vertical-align: middle;\n    }\n\n    .dataframe tbody tr th {\n        vertical-align: top;\n    }\n\n    .dataframe thead th {\n        text-align: right;\n    }\n</style>\n<table border=\"1\" class=\"dataframe\">\n  <thead>\n    <tr style=\"text-align: right;\">\n      <th></th>\n      <th>Palun.märgi..mil.määral.nõustud.järgmiste.väidetega...Mul.on.olemas.vajalikud.teadmised.ja.oskused..et.ülikoolis.hakkama.saada.</th>\n      <th>Palun.märgi..mil.määral.nõustud.järgmiste.väidetega...Ma.olen.võimeline.saama.enamikus.ainetes.häid.tulemusi.</th>\n      <th>Palun.märgi..mil.määral.nõustud.järgmiste.väidetega...Ma.saan.hakkama.kõikide.ülikooli.ainetega.</th>\n    </tr>\n  </thead>\n  <tbody>\n    <tr>\n      <th>0</th>\n      <td>üldiselt nõus</td>\n      <td>üldiselt nõus</td>\n      <td>üldiselt nõus</td>\n    </tr>\n    <tr>\n      <th>1</th>\n      <td>täiesti nõus</td>\n      <td>täiesti nõus</td>\n      <td>üldiselt nõus</td>\n    </tr>\n    <tr>\n      <th>2</th>\n      <td>täiesti nõus</td>\n      <td>täiesti nõus</td>\n      <td>ei oska öelda</td>\n    </tr>\n    <tr>\n      <th>3</th>\n      <td>üldiselt nõus</td>\n      <td>ei oska öelda</td>\n      <td>ei ole üldiselt nõus</td>\n    </tr>\n    <tr>\n      <th>4</th>\n      <td>üldiselt nõus</td>\n      <td>üldiselt nõus</td>\n      <td>ei ole sugugi nõus</td>\n    </tr>\n    <tr>\n      <th>...</th>\n      <td>...</td>\n      <td>...</td>\n      <td>...</td>\n    </tr>\n    <tr>\n      <th>148</th>\n      <td>ei ole üldiselt nõus</td>\n      <td>üldiselt nõus</td>\n      <td>täiesti nõus</td>\n    </tr>\n    <tr>\n      <th>149</th>\n      <td>üldiselt nõus</td>\n      <td>üldiselt nõus</td>\n      <td>ei oska öelda</td>\n    </tr>\n    <tr>\n      <th>150</th>\n      <td>üldiselt nõus</td>\n      <td>ei oska öelda</td>\n      <td>üldiselt nõus</td>\n    </tr>\n    <tr>\n      <th>151</th>\n      <td>üldiselt nõus</td>\n      <td>ei ole üldiselt nõus</td>\n      <td>ei ole sugugi nõus</td>\n    </tr>\n    <tr>\n      <th>152</th>\n      <td>üldiselt nõus</td>\n      <td>üldiselt nõus</td>\n      <td>üldiselt nõus</td>\n    </tr>\n  </tbody>\n</table>\n<p>153 rows × 3 columns</p>\n</div>"
     },
     "execution_count": 7,
     "metadata": {},
     "output_type": "execute_result"
    }
   ],
   "source": [
    "self_eff"
   ],
   "metadata": {
    "collapsed": false
   }
  },
  {
   "cell_type": "code",
   "execution_count": 8,
   "outputs": [
    {
     "name": "stdout",
     "output_type": "stream",
     "text": [
      "                                                   0\n",
      "0  Mul.on.olemas.vajalikud.teadmised.ja.oskused.....\n",
      "1  Ma.olen.võimeline.saama.enamikus.ainetes.häid....\n",
      "2         Ma.saan.hakkama.kõikide.ülikooli.ainetega.\n"
     ]
    }
   ],
   "source": [
    "#the columns (that is the statements) are as following\n",
    "se_statements = []\n",
    "for col in self_eff.columns:\n",
    "    title, statement = col.split('...')\n",
    "    statement = statement.strip(']')\n",
    "    se_statements.append(statement)\n",
    "    #print(col)\n",
    "se_statements = pd.DataFrame(se_statements)\n",
    "print(se_statements)"
   ],
   "metadata": {
    "collapsed": false
   }
  },
  {
   "cell_type": "code",
   "execution_count": 9,
   "outputs": [
    {
     "data": {
      "text/plain": "{'ei ole sugugi nõus',\n 'ei ole üldiselt nõus',\n 'ei oska öelda',\n 'täiesti nõus',\n 'üldiselt nõus'}"
     },
     "execution_count": 9,
     "metadata": {},
     "output_type": "execute_result"
    }
   ],
   "source": [
    "#lets look at the scale values to order them\n",
    "#using a random column that happens to have all of the points on the scale :)\n",
    "set(reflex['Palun.märgi..mil.määral.nõustud.järgmiste.väidetega...Vajadusel.loobun.muudest.tegevustest.heade.hinnete.nimel.'])"
   ],
   "metadata": {
    "collapsed": false
   }
  },
  {
   "cell_type": "code",
   "execution_count": 10,
   "outputs": [],
   "source": [
    "#the levels of self-efficacy scale ordered according to the questionnaire\n",
    "levels_se = ['ei ole sugugi nõus','ei ole üldiselt nõus', 'ei oska öelda','üldiselt nõus','täiesti nõus']\n",
    "#first, we need to convert the data from strings to floats using a dictionary\n",
    "self_efficacy_replacer = {'ei ole sugugi nõus':1,\n",
    "                          'ei ole üldiselt nõus':2,\n",
    "                          'ei oska öelda':3,\n",
    "                          'üldiselt nõus':4,\n",
    "                          'täiesti nõus':5}\n",
    "\n",
    "#rename the columns for easier use\n",
    "self_eff.columns = ['eff1','eff2','eff3']\n",
    "#create a new dataframe called se (self-efficacy) where the reported scale is replaced with numbers from 1 to 5\n",
    "se = self_eff.replace({'eff1':self_efficacy_replacer, 'eff2':self_efficacy_replacer, 'eff3':self_efficacy_replacer})"
   ],
   "metadata": {
    "collapsed": false
   }
  },
  {
   "cell_type": "code",
   "execution_count": 11,
   "outputs": [
    {
     "data": {
      "text/plain": "          0\n0  0.668947\n1  0.593416\n2  0.627406",
      "text/html": "<div>\n<style scoped>\n    .dataframe tbody tr th:only-of-type {\n        vertical-align: middle;\n    }\n\n    .dataframe tbody tr th {\n        vertical-align: top;\n    }\n\n    .dataframe thead th {\n        text-align: right;\n    }\n</style>\n<table border=\"1\" class=\"dataframe\">\n  <thead>\n    <tr style=\"text-align: right;\">\n      <th></th>\n      <th>0</th>\n    </tr>\n  </thead>\n  <tbody>\n    <tr>\n      <th>0</th>\n      <td>0.668947</td>\n    </tr>\n    <tr>\n      <th>1</th>\n      <td>0.593416</td>\n    </tr>\n    <tr>\n      <th>2</th>\n      <td>0.627406</td>\n    </tr>\n  </tbody>\n</table>\n</div>"
     },
     "execution_count": 11,
     "metadata": {},
     "output_type": "execute_result"
    }
   ],
   "source": [
    "#initiate\n",
    "fa = FactorAnalyzer(n_factors = 1, rotation = None, method = 'ml')\n",
    "#fit\n",
    "fa_se = fa.fit(se)\n",
    "#look at loadings\n",
    "fa_se.loadings_\n",
    "se_loadings = pd.DataFrame(fa_se.loadings_)\n",
    "se_loadings"
   ],
   "metadata": {
    "collapsed": false
   }
  },
  {
   "cell_type": "markdown",
   "source": [
    "These loadings are beautiful. They are all bigger than 0.5 which we like. That indicates agreeing with the statements might represent a consistent variable."
   ],
   "metadata": {
    "collapsed": false
   }
  },
  {
   "cell_type": "code",
   "execution_count": 12,
   "outputs": [
    {
     "data": {
      "text/plain": "                                                   0\n0  Mul.on.olemas.vajalikud.teadmised.ja.oskused.....\n1  Ma.olen.võimeline.saama.enamikus.ainetes.häid....\n2         Ma.saan.hakkama.kõikide.ülikooli.ainetega.",
      "text/html": "<div>\n<style scoped>\n    .dataframe tbody tr th:only-of-type {\n        vertical-align: middle;\n    }\n\n    .dataframe tbody tr th {\n        vertical-align: top;\n    }\n\n    .dataframe thead th {\n        text-align: right;\n    }\n</style>\n<table border=\"1\" class=\"dataframe\">\n  <thead>\n    <tr style=\"text-align: right;\">\n      <th></th>\n      <th>0</th>\n    </tr>\n  </thead>\n  <tbody>\n    <tr>\n      <th>0</th>\n      <td>Mul.on.olemas.vajalikud.teadmised.ja.oskused.....</td>\n    </tr>\n    <tr>\n      <th>1</th>\n      <td>Ma.olen.võimeline.saama.enamikus.ainetes.häid....</td>\n    </tr>\n    <tr>\n      <th>2</th>\n      <td>Ma.saan.hakkama.kõikide.ülikooli.ainetega.</td>\n    </tr>\n  </tbody>\n</table>\n</div>"
     },
     "execution_count": 12,
     "metadata": {},
     "output_type": "execute_result"
    }
   ],
   "source": [
    "se_statements"
   ],
   "metadata": {
    "collapsed": false
   }
  },
  {
   "cell_type": "code",
   "execution_count": 13,
   "outputs": [
    {
     "data": {
      "text/plain": "          0                                                  0\n0  0.668947  Mul.on.olemas.vajalikud.teadmised.ja.oskused.....\n1  0.593416  Ma.olen.võimeline.saama.enamikus.ainetes.häid....\n2  0.627406         Ma.saan.hakkama.kõikide.ülikooli.ainetega.",
      "text/html": "<div>\n<style scoped>\n    .dataframe tbody tr th:only-of-type {\n        vertical-align: middle;\n    }\n\n    .dataframe tbody tr th {\n        vertical-align: top;\n    }\n\n    .dataframe thead th {\n        text-align: right;\n    }\n</style>\n<table border=\"1\" class=\"dataframe\">\n  <thead>\n    <tr style=\"text-align: right;\">\n      <th></th>\n      <th>0</th>\n      <th>0</th>\n    </tr>\n  </thead>\n  <tbody>\n    <tr>\n      <th>0</th>\n      <td>0.668947</td>\n      <td>Mul.on.olemas.vajalikud.teadmised.ja.oskused.....</td>\n    </tr>\n    <tr>\n      <th>1</th>\n      <td>0.593416</td>\n      <td>Ma.olen.võimeline.saama.enamikus.ainetes.häid....</td>\n    </tr>\n    <tr>\n      <th>2</th>\n      <td>0.627406</td>\n      <td>Ma.saan.hakkama.kõikide.ülikooli.ainetega.</td>\n    </tr>\n  </tbody>\n</table>\n</div>"
     },
     "execution_count": 13,
     "metadata": {},
     "output_type": "execute_result"
    }
   ],
   "source": [
    "#lets print them side-by-side to look at them in all their glory\n",
    "pd.concat([se_loadings, se_statements], axis = 1)"
   ],
   "metadata": {
    "collapsed": false
   }
  },
  {
   "cell_type": "markdown",
   "source": [
    "# Cronbach's alpha is a measure of internal consistency"
   ],
   "metadata": {
    "collapsed": false
   }
  },
  {
   "cell_type": "code",
   "execution_count": 14,
   "outputs": [
    {
     "data": {
      "text/plain": "(0.6528895146151785, array([0.545, 0.738]))"
     },
     "execution_count": 14,
     "metadata": {},
     "output_type": "execute_result"
    }
   ],
   "source": [
    "import pingouin as pg\n",
    "#cronbach for self-efficacy instrument\n",
    "pg.cronbach_alpha(data=se)"
   ],
   "metadata": {
    "collapsed": false
   }
  },
  {
   "cell_type": "markdown",
   "source": [
    "0.65 is not perfect but it will have to do"
   ],
   "metadata": {
    "collapsed": false
   }
  },
  {
   "cell_type": "code",
   "execution_count": 15,
   "outputs": [],
   "source": [
    "se['score'] = se.sum(axis = 1)"
   ],
   "metadata": {
    "collapsed": false
   }
  },
  {
   "cell_type": "code",
   "execution_count": 16,
   "outputs": [
    {
     "name": "stdout",
     "output_type": "stream",
     "text": [
      "The general statistics for the self-efficacy instrument are as following\n",
      "Max 15\n",
      "Min 5\n",
      "Standard deviation 1.96\n",
      "Mean 11.31\n",
      "Mode 12\n",
      "Median 12.0\n",
      "N = 153\n"
     ]
    }
   ],
   "source": [
    "import statistics\n",
    "#lets print out some general statistics\n",
    "print(\"The general statistics for the self-efficacy instrument are as following\")\n",
    "print(f\"Max {max(se['score'])}\")\n",
    "print(f\"Min {min(se['score'])}\")\n",
    "print(f\"Standard deviation {round(np.std(se['score']),2)}\")\n",
    "print(f\"Mean {round(np.mean(se['score']),2)}\")\n",
    "print(f\"Mode {statistics.mode(se['score'])}\")\n",
    "print(f\"Median {np.median(se['score'])}\")\n",
    "print(f\"N = {len(se)}\")"
   ],
   "metadata": {
    "collapsed": false
   }
  },
  {
   "cell_type": "code",
   "execution_count": 17,
   "outputs": [
    {
     "data": {
      "text/plain": "<seaborn.axisgrid.FacetGrid at 0x22055fc6b20>"
     },
     "execution_count": 17,
     "metadata": {},
     "output_type": "execute_result"
    },
    {
     "data": {
      "text/plain": "<Figure size 500x500 with 1 Axes>",
      "image/png": "[encoded data removed]"
     },
     "metadata": {},
     "output_type": "display_data"
    }
   ],
   "source": [
    "sns.displot(se, x = 'score', kde = True)"
   ],
   "metadata": {
    "collapsed": false
   }
  },
  {
   "cell_type": "code",
   "execution_count": 20,
   "outputs": [
    {
     "data": {
      "text/plain": "Index(['eff1', 'eff2', 'eff3', 'score'], dtype='object')"
     },
     "execution_count": 20,
     "metadata": {},
     "output_type": "execute_result"
    }
   ],
   "source": [
    "se.columns"
   ],
   "metadata": {
    "collapsed": false
   }
  },
  {
   "cell_type": "code",
   "execution_count": 26,
   "outputs": [
    {
     "data": {
      "text/plain": "<Figure size 640x480 with 2 Axes>",
      "image/png": "[encoded data removed]"
     },
     "metadata": {},
     "output_type": "display_data"
    }
   ],
   "source": [
    "#lets look at the correlations between items\n",
    "se_corr = se.loc[:,['eff1', 'eff2','eff3']].corr()\n",
    "se_corr = round(se_corr,2)\n",
    "colored_se_corr = sns.heatmap(se_corr, annot = True);\n",
    "colored_se_corr\n",
    "plt.show()\n",
    "plt.close()"
   ],
   "metadata": {
    "collapsed": false
   }
  },
  {
   "cell_type": "code",
   "execution_count": 18,
   "outputs": [],
   "source": [
    "#take the names from the original data\n",
    "names = reflex.iloc[:,-1]\n",
    "#add the names to scores\n",
    "se['name'] = names\n",
    "#only use the scores and not individual statements\n",
    "se_scores = se.loc[:,['name','score']]"
   ],
   "metadata": {
    "collapsed": false
   }
  },
  {
   "cell_type": "code",
   "execution_count": 19,
   "outputs": [],
   "source": [
    "se_scores.to_csv('se_scores.csv', index = False)"
   ],
   "metadata": {
    "collapsed": false
   }
  }
 ],
 "metadata": {
  "kernelspec": {
   "display_name": "Python 3",
   "language": "python",
   "name": "python3"
  },
  "language_info": {
   "codemirror_mode": {
    "name": "ipython",
    "version": 2
   },
   "file_extension": ".py",
   "mimetype": "text/x-python",
   "name": "python",
   "nbconvert_exporter": "python",
   "pygments_lexer": "ipython2",
   "version": "2.7.6"
  }
 },
 "nbformat": 4,
 "nbformat_minor": 0
}
